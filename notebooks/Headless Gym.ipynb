{
 "cells": [
  {
   "cell_type": "markdown",
   "metadata": {},
   "source": [
    "yarn run v1.22.4\n",
    "$ /home/nbollweg3/foss/gt-coar/rl-lab/node_modules/.bin/prettier --stdin-filepath foo.md --prose-wrap always\n",
    "# Rendering OpenAI Gym Envs on Binder and Google Colab\n",
    "\n",
    "> adapted from\n",
    "> https://towardsdatascience.com/rendering-openai-gym-envs-on-binder-and-google-colab-536f99391cc7\n",
    "> by [@davidrpugh](https://github.com/davidrpugh)\n",
    "Done in 0.90s."
   ]
  },
  {
   "cell_type": "code",
   "execution_count": null,
   "metadata": {},
   "outputs": [],
   "source": [
    "import typing\n",
    "\n",
    "import gym\n",
    "import IPython.display as display\n",
    "import matplotlib.pyplot as plt\n",
    "import numpy as np\n",
    "import pyvirtualdisplay"
   ]
  },
  {
   "cell_type": "markdown",
   "metadata": {},
   "source": [
    "yarn run v1.22.4\n",
    "$ /home/nbollweg3/foss/gt-coar/rl-lab/node_modules/.bin/prettier --stdin-filepath foo.md --prose-wrap always\n",
    "## Create the virtual display\n",
    "Done in 0.89s."
   ]
  },
  {
   "cell_type": "code",
   "execution_count": null,
   "metadata": {},
   "outputs": [],
   "source": [
    "pyvirtualdisplay.Display(visible=False, size=(1400, 900)).start()"
   ]
  },
  {
   "cell_type": "markdown",
   "metadata": {},
   "source": [
    "yarn run v1.22.4\n",
    "$ /home/nbollweg3/foss/gt-coar/rl-lab/node_modules/.bin/prettier --stdin-filepath foo.md --prose-wrap always\n",
    "## Represent states as `array`s and actions as `int`s\n",
    "Done in 0.89s."
   ]
  },
  {
   "cell_type": "code",
   "execution_count": null,
   "metadata": {},
   "outputs": [],
   "source": [
    "State = np.ndarray\n",
    "Action = int"
   ]
  },
  {
   "cell_type": "markdown",
   "metadata": {},
   "source": [
    "yarn run v1.22.4\n",
    "$ /home/nbollweg3/foss/gt-coar/rl-lab/node_modules/.bin/prettier --stdin-filepath foo.md --prose-wrap always\n",
    "## Agent is just a function!\n",
    "Done in 0.89s."
   ]
  },
  {
   "cell_type": "code",
   "execution_count": null,
   "metadata": {},
   "outputs": [],
   "source": [
    "Agent = typing.Callable[[State], Action]"
   ]
  },
  {
   "cell_type": "code",
   "execution_count": null,
   "metadata": {},
   "outputs": [],
   "source": [
    "def uniform_random_policy(\n",
    "    state: State, number_actions: int, random_state: np.random.RandomState\n",
    ") -> Action:\n",
    "    \"\"\"Select an action at random from the set of feasible actions.\"\"\"\n",
    "    feasible_actions = np.arange(number_actions)\n",
    "    probs = np.ones(number_actions) / number_actions\n",
    "    action = random_state.choice(feasible_actions, p=probs)\n",
    "    return action"
   ]
  },
  {
   "cell_type": "code",
   "execution_count": null,
   "metadata": {},
   "outputs": [],
   "source": [
    "def make_random_agent(\n",
    "    number_actions: int, random_state: np.random.RandomState = None\n",
    ") -> Agent:\n",
    "    \"\"\"Factory for creating an Agent.\"\"\"\n",
    "    _random_state = np.random.RandomState() if random_state is None else random_state\n",
    "    return lambda state: uniform_random_policy(state, number_actions, _random_state)"
   ]
  },
  {
   "cell_type": "code",
   "execution_count": null,
   "metadata": {},
   "outputs": [],
   "source": [
    "def simulate(agent: Agent, env: gym.Env, ax: plt.Axes = None) -> None:\n",
    "    state = env.reset()\n",
    "    ax = ax or plt.axes()\n",
    "    img = ax.imshow(env.render(mode=\"rgb_array\"))\n",
    "    done = False\n",
    "    while not done:\n",
    "        action = agent(state)\n",
    "        img.set_data(env.render(mode=\"rgb_array\"))\n",
    "        ax.axis(\"off\")\n",
    "        display.display(plt.gcf())\n",
    "        display.clear_output(wait=True)\n",
    "        state, reward, done, _ = env.step(action)\n",
    "    env.close()"
   ]
  },
  {
   "cell_type": "markdown",
   "metadata": {},
   "source": [
    "yarn run v1.22.4\n",
    "$ /home/nbollweg3/foss/gt-coar/rl-lab/node_modules/.bin/prettier --stdin-filepath foo.md --prose-wrap always\n",
    "## Create the Gym environment\n",
    "Done in 1.02s."
   ]
  },
  {
   "cell_type": "code",
   "execution_count": null,
   "metadata": {},
   "outputs": [],
   "source": [
    "lunar_lander_v2 = gym.make(\"LunarLander-v2\")\n",
    "lunar_lander_v2.seed(42)"
   ]
  },
  {
   "cell_type": "markdown",
   "metadata": {},
   "source": [
    "yarn run v1.22.4\n",
    "$ /home/nbollweg3/foss/gt-coar/rl-lab/node_modules/.bin/prettier --stdin-filepath foo.md --prose-wrap always\n",
    "## Create an agent\n",
    "Done in 1.14s."
   ]
  },
  {
   "cell_type": "code",
   "execution_count": null,
   "metadata": {},
   "outputs": [],
   "source": [
    "random_agent = make_random_agent(lunar_lander_v2.action_space.n, random_state=None)"
   ]
  },
  {
   "cell_type": "markdown",
   "metadata": {},
   "source": [
    "yarn run v1.22.4\n",
    "$ /home/nbollweg3/foss/gt-coar/rl-lab/node_modules/.bin/prettier --stdin-filepath foo.md --prose-wrap always\n",
    "## Simulate agent interacting with the environment\n",
    "Done in 1.12s."
   ]
  },
  {
   "cell_type": "code",
   "execution_count": null,
   "metadata": {},
   "outputs": [],
   "source": [
    "simulate(random_agent, lunar_lander_v2)"
   ]
  }
 ],
 "metadata": {
  "kernelspec": {
   "display_name": "Python 3",
   "language": "python",
   "name": "python3"
  },
  "language_info": {
   "codemirror_mode": {
    "name": "ipython",
    "version": 3
   },
   "file_extension": ".py",
   "mimetype": "text/x-python",
   "name": "python",
   "nbconvert_exporter": "python",
   "pygments_lexer": "ipython3",
   "version": "3.7.7"
  }
 },
 "nbformat": 4,
 "nbformat_minor": 4
}
